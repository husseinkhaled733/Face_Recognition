{
 "cells": [
  {
   "cell_type": "markdown",
   "id": "12b0299f",
   "metadata": {},
   "source": [
    "# Linear Discriminant Analysis"
   ]
  },
  {
   "cell_type": "markdown",
   "id": "84ac4afe",
   "metadata": {},
   "source": [
    "Libraries"
   ]
  },
  {
   "cell_type": "code",
   "execution_count": 1,
   "id": "61b2afe6",
   "metadata": {},
   "outputs": [],
   "source": [
    "import numpy as np  # linear algebra\n",
    "import scipy\n",
    "from sklearn.neighbors import KNeighborsClassifier\n",
    "from sklearn.metrics import accuracy_score\n",
    "import matplotlib.pyplot as plt\n",
    "number_of_persons = 40"
   ]
  },
  {
   "cell_type": "code",
   "execution_count": 2,
   "id": "18ca2c20",
   "metadata": {},
   "outputs": [],
   "source": [
    "def read_single_image(image_path):\n",
    "    ans = []\n",
    "    with open(image_path, 'rb') as f:\n",
    "        assert f.readline() == b'P5\\n'\n",
    "        assert f.readline() == b'92 112\\n'\n",
    "        assert f.readline() == b'255\\n'\n",
    "\n",
    "        for i in range(10304):\n",
    "            ans.append(ord(f.read(1)))\n",
    "\n",
    "    return ans"
   ]
  },
  {
   "cell_type": "markdown",
   "id": "f1a26b1e",
   "metadata": {},
   "source": [
    "# Create the Data Matrix and Label Vector"
   ]
  },
  {
   "cell_type": "code",
   "execution_count": 3,
   "id": "50cf41a7",
   "metadata": {},
   "outputs": [],
   "source": [
    "def construct_data_frame():\n",
    "    images = []\n",
    "    persons = []\n",
    "\n",
    "    path = \"C:\\\\Users\\\\DELL\\\\Desktop\\\\Pattern_Lab1\\\\archive\\\\\"\n",
    "    print('Reading Started')\n",
    "    for x in range(1, number_of_persons + 1):\n",
    "        current_person_path = path + 's' + str(x) + '/'\n",
    "        for y in range(1, 11):\n",
    "            persons.append(str(x))\n",
    "            images.append(read_single_image(current_person_path + str(y) + '.pgm'))\n",
    "\n",
    "    images = np.array(images)\n",
    "\n",
    "    return images, persons"
   ]
  },
  {
   "cell_type": "markdown",
   "id": "c9dc377d",
   "metadata": {},
   "source": [
    "# Split Data odd rows for training and even rows for testing"
   ]
  },
  {
   "cell_type": "code",
   "execution_count": 4,
   "id": "5895ef4b",
   "metadata": {},
   "outputs": [],
   "source": [
    "def split_data(D, labels):\n",
    "    train_Data = []\n",
    "    train_Label = []\n",
    "    test_Data = []\n",
    "    test_Label = []\n",
    "    for i in range(len(D)):\n",
    "        if i % 2 == 1:\n",
    "            train_Data.append(D[i])\n",
    "            train_Label.append(labels[i])\n",
    "        else:\n",
    "            test_Data.append(D[i])\n",
    "            test_Label.append(labels[i])\n",
    "    return np.array(train_Data), np.array(train_Label), np.array(test_Data), np.array(test_Label)"
   ]
  },
  {
   "cell_type": "markdown",
   "id": "ee0c938c",
   "metadata": {},
   "source": [
    "# LDA"
   ]
  },
  {
   "cell_type": "code",
   "execution_count": 5,
   "id": "8616fad8",
   "metadata": {},
   "outputs": [],
   "source": [
    "def LDA(Data, label, eigen_values_count=39):\n",
    "    print(eigen_values_count)\n",
    "    Data = np.array(Data)\n",
    "    label = np.array(label)\n",
    "    unique_values, count = np.unique(label, return_counts=True)\n",
    "    number_of_classes = len(np.unique(label))\n",
    "    print(\"Number of Classes = \", number_of_classes)\n",
    "    number_of_features = len(Data[0])\n",
    "\n",
    "    # Calculate Means for every class\n",
    "    means = np.zeros((number_of_classes, number_of_features))\n",
    "\n",
    "    for i in range(1, number_of_classes + 1):\n",
    "        data = Data[np.where(label == str(i))]\n",
    "        meanI = np.mean(data, axis=0)\n",
    "        means[i - 1] = meanI\n",
    "\n",
    "    # Calculate mean for each feature\n",
    "    mean = np.mean(Data, axis=0)\n",
    "\n",
    "    # Calculate Sb\n",
    "    Sb = np.zeros((number_of_features, number_of_features))\n",
    "    for i in range(number_of_classes):\n",
    "        x = np.array(means[i] - mean).reshape(number_of_features, 1)\n",
    "        y = x.dot(x.T) * count[i]\n",
    "        Sb = np.add(Sb, y)\n",
    "\n",
    "    # Calculate S\n",
    "    S = np.zeros((number_of_features, number_of_features))\n",
    "    for i in range(number_of_classes):\n",
    "        dataI = Data[label == str(i + 1)]\n",
    "        Zi = np.array(dataI - means[i])\n",
    "        S += Zi.T.dot(Zi)\n",
    "\n",
    "    # Calculate Eigen Values and Eigen Vectors\n",
    "\n",
    "    inverse = scipy.linalg.pinv(S)\n",
    "\n",
    "    X = inverse.dot(Sb)\n",
    "\n",
    "    eigen_Values, eigen_Vectors = np.linalg.eig(X)\n",
    "\n",
    "    idx = eigen_Values.argsort()[::-1]\n",
    "    eigen_Values = eigen_Values[idx]\n",
    "    eigen_Vectors = eigen_Vectors[:, idx]\n",
    "    print(\"Eigen Values = \", eigen_Values)\n",
    "    print(\"Eigen Vectors = \", eigen_Vectors)\n",
    "    eigen_Vectors = np.real(eigen_Vectors)\n",
    "\n",
    "    U = eigen_Vectors[:, 0:eigen_values_count]\n",
    "    print(\"U = \",U)\n",
    "    return U"
   ]
  },
  {
   "cell_type": "markdown",
   "id": "b44f74f7",
   "metadata": {},
   "source": [
    "# Calculate the Accuracy using KNN classifier using different Ks and Plot a graph"
   ]
  },
  {
   "cell_type": "code",
   "execution_count": 6,
   "id": "297fe56e",
   "metadata": {},
   "outputs": [],
   "source": [
    "def calc_Accuracy(Projected_train_Data, Projected_test_Data, train_Label, test_Label):\n",
    "    K = [1, 3, 5, 7]\n",
    "    accuracies = []\n",
    "\n",
    "    for i in K:\n",
    "        knn = KNeighborsClassifier(n_neighbors=i)\n",
    "        knn.fit(Projected_train_Data, train_Label)\n",
    "        predicted_labels = knn.predict(Projected_test_Data)\n",
    "        acc = accuracy_score(test_Label, predicted_labels)\n",
    "        accuracies.append(acc)\n",
    "\n",
    "        print(\"Accuracy = \", acc, \"  at k = \", i)\n",
    "\n",
    "    # Plotting accuracy against K\n",
    "    plt.plot(K, accuracies, marker='o')\n",
    "    plt.title('Accuracy vs. K')\n",
    "    plt.xlabel('K')\n",
    "    plt.ylabel('Accuracy')\n",
    "    plt.xticks(K)\n",
    "    plt.grid(True)\n",
    "    plt.show()"
   ]
  },
  {
   "cell_type": "markdown",
   "id": "09febae3",
   "metadata": {},
   "source": [
    "# RUN LDA and project the training and test Data using the 39 Eigen Vectors corresponding to the Highest 39 Eigen Values then calculate the Accuracy"
   ]
  },
  {
   "cell_type": "code",
   "execution_count": 7,
   "id": "b18e16f4",
   "metadata": {},
   "outputs": [
    {
     "name": "stdout",
     "output_type": "stream",
     "text": [
      "Reading Started\n",
      "[[ 48  49  45 ...  47  46  46]\n",
      " [ 60  60  62 ...  32  34  34]\n",
      " [ 39  44  53 ...  29  26  29]\n",
      " ...\n",
      " [125 119 124 ...  36  39  40]\n",
      " [119 120 120 ...  89  94  85]\n",
      " [125 124 124 ...  36  35  34]]\n",
      "['1', '1', '1', '1', '1', '1', '1', '1', '1', '1', '2', '2', '2', '2', '2', '2', '2', '2', '2', '2', '3', '3', '3', '3', '3', '3', '3', '3', '3', '3', '4', '4', '4', '4', '4', '4', '4', '4', '4', '4', '5', '5', '5', '5', '5', '5', '5', '5', '5', '5', '6', '6', '6', '6', '6', '6', '6', '6', '6', '6', '7', '7', '7', '7', '7', '7', '7', '7', '7', '7', '8', '8', '8', '8', '8', '8', '8', '8', '8', '8', '9', '9', '9', '9', '9', '9', '9', '9', '9', '9', '10', '10', '10', '10', '10', '10', '10', '10', '10', '10', '11', '11', '11', '11', '11', '11', '11', '11', '11', '11', '12', '12', '12', '12', '12', '12', '12', '12', '12', '12', '13', '13', '13', '13', '13', '13', '13', '13', '13', '13', '14', '14', '14', '14', '14', '14', '14', '14', '14', '14', '15', '15', '15', '15', '15', '15', '15', '15', '15', '15', '16', '16', '16', '16', '16', '16', '16', '16', '16', '16', '17', '17', '17', '17', '17', '17', '17', '17', '17', '17', '18', '18', '18', '18', '18', '18', '18', '18', '18', '18', '19', '19', '19', '19', '19', '19', '19', '19', '19', '19', '20', '20', '20', '20', '20', '20', '20', '20', '20', '20', '21', '21', '21', '21', '21', '21', '21', '21', '21', '21', '22', '22', '22', '22', '22', '22', '22', '22', '22', '22', '23', '23', '23', '23', '23', '23', '23', '23', '23', '23', '24', '24', '24', '24', '24', '24', '24', '24', '24', '24', '25', '25', '25', '25', '25', '25', '25', '25', '25', '25', '26', '26', '26', '26', '26', '26', '26', '26', '26', '26', '27', '27', '27', '27', '27', '27', '27', '27', '27', '27', '28', '28', '28', '28', '28', '28', '28', '28', '28', '28', '29', '29', '29', '29', '29', '29', '29', '29', '29', '29', '30', '30', '30', '30', '30', '30', '30', '30', '30', '30', '31', '31', '31', '31', '31', '31', '31', '31', '31', '31', '32', '32', '32', '32', '32', '32', '32', '32', '32', '32', '33', '33', '33', '33', '33', '33', '33', '33', '33', '33', '34', '34', '34', '34', '34', '34', '34', '34', '34', '34', '35', '35', '35', '35', '35', '35', '35', '35', '35', '35', '36', '36', '36', '36', '36', '36', '36', '36', '36', '36', '37', '37', '37', '37', '37', '37', '37', '37', '37', '37', '38', '38', '38', '38', '38', '38', '38', '38', '38', '38', '39', '39', '39', '39', '39', '39', '39', '39', '39', '39', '40', '40', '40', '40', '40', '40', '40', '40', '40', '40']\n",
      "39\n",
      "Number of Classes =  40\n",
      "Eigen Values =  [ 2.26008529e+01+0.0000000e+00j  1.54955104e+01+0.0000000e+00j\n",
      "  1.06728699e+01+0.0000000e+00j ... -2.54187143e-15+2.0236562e-15j\n",
      " -2.54187143e-15-2.0236562e-15j -2.74632031e-15+0.0000000e+00j]\n",
      "Eigen Vectors =  [[ 0.00195963+0.j         -0.00656164+0.j         -0.00088356+0.j\n",
      "  ... -0.00455078-0.01155266j -0.00455078+0.01155266j\n",
      "   0.01281907+0.j        ]\n",
      " [ 0.00368616+0.j         -0.0035659 +0.j          0.00082478+0.j\n",
      "  ... -0.00595173+0.00357899j -0.00595173-0.00357899j\n",
      "   0.01538474+0.j        ]\n",
      " [-0.00057438+0.j         -0.0071894 +0.j         -0.00175051+0.j\n",
      "  ...  0.00496803+0.01258126j  0.00496803-0.01258126j\n",
      "   0.00400259+0.j        ]\n",
      " ...\n",
      " [ 0.03767583+0.j         -0.01090378+0.j         -0.01600198+0.j\n",
      "  ...  0.01664525+0.015654j    0.01664525-0.015654j\n",
      "  -0.04288263+0.j        ]\n",
      " [ 0.02422824+0.j          0.00305271+0.j         -0.02169073+0.j\n",
      "  ...  0.00031868+0.00561941j  0.00031868-0.00561941j\n",
      "  -0.00427868+0.j        ]\n",
      " [ 0.04273685+0.j         -0.0053556 +0.j         -0.0063518 +0.j\n",
      "  ...  0.02059531-0.02216188j  0.02059531+0.02216188j\n",
      "  -0.04518143+0.j        ]]\n",
      "U =  [[ 0.00195963 -0.00656164 -0.00088356 ... -0.0043234  -0.00505938\n",
      "  -0.00194173]\n",
      " [ 0.00368616 -0.0035659   0.00082478 ... -0.00035483 -0.00256093\n",
      "  -0.00265978]\n",
      " [-0.00057438 -0.0071894  -0.00175051 ...  0.00113959 -0.00276102\n",
      "  -0.00560417]\n",
      " ...\n",
      " [ 0.03767583 -0.01090378 -0.01600198 ...  0.00417213  0.02672634\n",
      "   0.00034957]\n",
      " [ 0.02422824  0.00305271 -0.02169073 ...  0.01503577 -0.01701034\n",
      "  -0.00439822]\n",
      " [ 0.04273685 -0.0053556  -0.0063518  ...  0.0047919  -0.02475573\n",
      "  -0.01452672]]\n"
     ]
    },
    {
     "name": "stderr",
     "output_type": "stream",
     "text": [
      "C:\\ProgramData\\Anaconda3\\lib\\site-packages\\sklearn\\neighbors\\_classification.py:228: FutureWarning: Unlike other reduction functions (e.g. `skew`, `kurtosis`), the default behavior of `mode` typically preserves the axis it acts along. In SciPy 1.11.0, this behavior will change: the default value of `keepdims` will become False, the `axis` over which the statistic is taken will be eliminated, and the value None will no longer be accepted. Set `keepdims` to True or False to avoid this warning.\n",
      "  mode, _ = stats.mode(_y[neigh_ind, k], axis=1)\n",
      "C:\\ProgramData\\Anaconda3\\lib\\site-packages\\sklearn\\neighbors\\_classification.py:228: FutureWarning: Unlike other reduction functions (e.g. `skew`, `kurtosis`), the default behavior of `mode` typically preserves the axis it acts along. In SciPy 1.11.0, this behavior will change: the default value of `keepdims` will become False, the `axis` over which the statistic is taken will be eliminated, and the value None will no longer be accepted. Set `keepdims` to True or False to avoid this warning.\n",
      "  mode, _ = stats.mode(_y[neigh_ind, k], axis=1)\n",
      "C:\\ProgramData\\Anaconda3\\lib\\site-packages\\sklearn\\neighbors\\_classification.py:228: FutureWarning: Unlike other reduction functions (e.g. `skew`, `kurtosis`), the default behavior of `mode` typically preserves the axis it acts along. In SciPy 1.11.0, this behavior will change: the default value of `keepdims` will become False, the `axis` over which the statistic is taken will be eliminated, and the value None will no longer be accepted. Set `keepdims` to True or False to avoid this warning.\n",
      "  mode, _ = stats.mode(_y[neigh_ind, k], axis=1)\n",
      "C:\\ProgramData\\Anaconda3\\lib\\site-packages\\sklearn\\neighbors\\_classification.py:228: FutureWarning: Unlike other reduction functions (e.g. `skew`, `kurtosis`), the default behavior of `mode` typically preserves the axis it acts along. In SciPy 1.11.0, this behavior will change: the default value of `keepdims` will become False, the `axis` over which the statistic is taken will be eliminated, and the value None will no longer be accepted. Set `keepdims` to True or False to avoid this warning.\n",
      "  mode, _ = stats.mode(_y[neigh_ind, k], axis=1)\n"
     ]
    },
    {
     "name": "stdout",
     "output_type": "stream",
     "text": [
      "Accuracy =  0.96   at k =  1\n",
      "Accuracy =  0.885   at k =  3\n",
      "Accuracy =  0.9   at k =  5\n",
      "Accuracy =  0.92   at k =  7\n"
     ]
    },
    {
     "data": {
      "image/png": "[encoded data removed]",
      "text/plain": [
       "<Figure size 640x480 with 1 Axes>"
      ]
     },
     "metadata": {},
     "output_type": "display_data"
    }
   ],
   "source": [
    "(D, labels) = construct_data_frame()\n",
    "\n",
    "print(D)\n",
    "print(labels)\n",
    "(train_Data, train_Label, test_Data, test_Label) = split_data(D, labels)\n",
    "\n",
    "U = LDA(train_Data, train_Label, eigen_values_count=39)\n",
    "\n",
    "Projected_train_Data = train_Data.dot(U)  # ==  ((U.T).dot(train_Data.T)).T\n",
    "Projected_test_Data = test_Data.dot(U)\n",
    "\n",
    "calc_Accuracy(Projected_train_Data, Projected_test_Data,train_Label ,test_Label)"
   ]
  },
  {
   "cell_type": "code",
   "execution_count": null,
   "id": "dff30d67",
   "metadata": {},
   "outputs": [],
   "source": []
  }
 ],
 "metadata": {
  "kernelspec": {
   "display_name": "Python 3 (ipykernel)",
   "language": "python",
   "name": "python3"
  },
  "language_info": {
   "codemirror_mode": {
    "name": "ipython",
    "version": 3
   },
   "file_extension": ".py",
   "mimetype": "text/x-python",
   "name": "python",
   "nbconvert_exporter": "python",
   "pygments_lexer": "ipython3",
   "version": "3.9.13"
  }
 },
 "nbformat": 4,
 "nbformat_minor": 5
}
