{
 "cells": [
  {
   "cell_type": "markdown",
   "id": "12b0299f",
   "metadata": {},
   "source": [
    "# Linear Discriminant Analysis"
   ]
  },
  {
   "cell_type": "markdown",
   "id": "84ac4afe",
   "metadata": {},
   "source": [
    "Libraries"
   ]
  },
  {
   "cell_type": "code",
   "execution_count": 9,
   "id": "61b2afe6",
   "metadata": {},
   "outputs": [],
   "source": [
    "import numpy as np  # linear algebra\n",
    "import scipy\n",
    "from sklearn.neighbors import KNeighborsClassifier\n",
    "from sklearn.metrics import accuracy_score\n",
    "import matplotlib.pyplot as plt\n",
    "number_of_persons = 40"
   ]
  },
  {
   "cell_type": "code",
   "execution_count": 10,
   "id": "18ca2c20",
   "metadata": {},
   "outputs": [],
   "source": [
    "def read_single_image(image_path):\n",
    "    ans = []\n",
    "    with open(image_path, 'rb') as f:\n",
    "        assert f.readline() == b'P5\\n'\n",
    "        assert f.readline() == b'92 112\\n'\n",
    "        assert f.readline() == b'255\\n'\n",
    "\n",
    "        for i in range(10304):\n",
    "            ans.append(ord(f.read(1)))\n",
    "\n",
    "    return ans"
   ]
  },
  {
   "cell_type": "markdown",
   "id": "f1a26b1e",
   "metadata": {},
   "source": [
    "# Create the Data Matrix and Label Vector"
   ]
  },
  {
   "cell_type": "code",
   "execution_count": 11,
   "id": "50cf41a7",
   "metadata": {},
   "outputs": [],
   "source": [
    "def construct_data_frame():\n",
    "    images = []\n",
    "    persons = []\n",
    "\n",
    "    path = \"C:\\\\Users\\\\DELL\\\\Desktop\\\\Pattern_Lab1\\\\archive\\\\\"\n",
    "    print('Reading Started')\n",
    "    for x in range(1, number_of_persons + 1):\n",
    "        current_person_path = path + 's' + str(x) + '/'\n",
    "        for y in range(1, 11):\n",
    "            persons.append(str(x))\n",
    "            images.append(read_single_image(current_person_path + str(y) + '.pgm'))\n",
    "\n",
    "    images = np.array(images)\n",
    "\n",
    "    return images, persons"
   ]
  },
  {
   "cell_type": "markdown",
   "id": "c9dc377d",
   "metadata": {},
   "source": [
    "# Split Data odd rows for training and even rows for testing"
   ]
  },
  {
   "cell_type": "code",
   "execution_count": 12,
   "id": "5895ef4b",
   "metadata": {},
   "outputs": [],
   "source": [
    "def split_data(D, labels):\n",
    "    train_Data = []\n",
    "    train_Label = []\n",
    "    test_Data = []\n",
    "    test_Label = []\n",
    "    for i in range(len(D)):\n",
    "        if i % 2 == 1:\n",
    "            train_Data.append(D[i])\n",
    "            train_Label.append(labels[i])\n",
    "        else:\n",
    "            test_Data.append(D[i])\n",
    "            test_Label.append(labels[i])\n",
    "    return np.array(train_Data), np.array(train_Label), np.array(test_Data), np.array(test_Label)"
   ]
  },
  {
   "cell_type": "markdown",
   "id": "47be55ec",
   "metadata": {},
   "source": [
    "# Split Data 70% for training and 30% for testing"
   ]
  },
  {
   "cell_type": "code",
   "execution_count": 13,
   "id": "97c354ee",
   "metadata": {},
   "outputs": [],
   "source": [
    "def split_data_70_30(D, labels):\n",
    "    train_Data = []\n",
    "    train_Label = []\n",
    "    test_Data = []\n",
    "    test_Label = []\n",
    "    for i in range(len(D)):\n",
    "        if i % 10 <= 6:\n",
    "            train_Data.append(D[i])\n",
    "            train_Label.append(labels[i])\n",
    "        else:\n",
    "            test_Data.append(D[i])\n",
    "            test_Label.append(labels[i])\n",
    "    return np.array(train_Data), np.array(train_Label), np.array(test_Data), np.array(test_Label)"
   ]
  },
  {
   "cell_type": "markdown",
   "id": "ee0c938c",
   "metadata": {},
   "source": [
    "# LDA"
   ]
  },
  {
   "cell_type": "code",
   "execution_count": 14,
   "id": "8616fad8",
   "metadata": {},
   "outputs": [],
   "source": [
    "def LDA(Data, label, eigen_values_count=39):\n",
    "    print(eigen_values_count)\n",
    "    Data = np.array(Data)\n",
    "    label = np.array(label)\n",
    "    unique_values, count = np.unique(label, return_counts=True)\n",
    "    number_of_classes = len(np.unique(label))\n",
    "    print(\"Number of Classes = \", number_of_classes)\n",
    "    number_of_features = len(Data[0])\n",
    "\n",
    "    # Calculate Means for every class\n",
    "    means = np.zeros((number_of_classes, number_of_features))\n",
    "\n",
    "    for i in range(1, number_of_classes + 1):\n",
    "        data = Data[np.where(label == str(i))]\n",
    "        meanI = np.mean(data, axis=0)\n",
    "        means[i - 1] = meanI\n",
    "\n",
    "    # Calculate mean for each feature\n",
    "    mean = np.mean(Data, axis=0)\n",
    "\n",
    "    # Calculate Sb\n",
    "    Sb = np.zeros((number_of_features, number_of_features))\n",
    "    for i in range(number_of_classes):\n",
    "        x = np.array(means[i] - mean).reshape(number_of_features, 1)\n",
    "        y = x.dot(x.T) * count[i]\n",
    "        Sb = np.add(Sb, y)\n",
    "\n",
    "    # Calculate S\n",
    "    S = np.zeros((number_of_features, number_of_features))\n",
    "    for i in range(number_of_classes):\n",
    "        dataI = Data[label == str(i + 1)]\n",
    "        Zi = np.array(dataI - means[i])\n",
    "        S += Zi.T.dot(Zi)\n",
    "\n",
    "    # Calculate Eigen Values and Eigen Vectors\n",
    "\n",
    "    inverse = scipy.linalg.pinv(S)\n",
    "\n",
    "    X = inverse.dot(Sb)\n",
    "\n",
    "    eigen_Values, eigen_Vectors = np.linalg.eig(X)\n",
    "\n",
    "    idx = eigen_Values.argsort()[::-1]\n",
    "    eigen_Values = eigen_Values[idx]\n",
    "    eigen_Vectors = eigen_Vectors[:, idx]\n",
    "    print(\"Eigen Values = \", eigen_Values)\n",
    "    print(\"Eigen Vectors = \", eigen_Vectors)\n",
    "    eigen_Vectors = np.real(eigen_Vectors)\n",
    "\n",
    "    U = eigen_Vectors[:, 0:eigen_values_count]\n",
    "    print(\"U = \",U)\n",
    "    return U"
   ]
  },
  {
   "cell_type": "markdown",
   "id": "b44f74f7",
   "metadata": {},
   "source": [
    "# Calculate the Accuracy using KNN classifier using different Ks and Plot a graph"
   ]
  },
  {
   "cell_type": "code",
   "execution_count": 15,
   "id": "297fe56e",
   "metadata": {},
   "outputs": [],
   "source": [
    "def calc_Accuracy(Projected_train_Data, Projected_test_Data, train_Label, test_Label):\n",
    "    K = [1, 3, 5, 7]\n",
    "    accuracies = []\n",
    "\n",
    "    for i in K:\n",
    "        knn = KNeighborsClassifier(n_neighbors=i)\n",
    "        knn.fit(Projected_train_Data, train_Label)\n",
    "        predicted_labels = knn.predict(Projected_test_Data)\n",
    "        acc = accuracy_score(test_Label, predicted_labels)\n",
    "        accuracies.append(acc)\n",
    "\n",
    "        print(\"Accuracy = \", acc, \"  at k = \", i)\n",
    "\n",
    "    # Plotting accuracy against K\n",
    "    plt.plot(K, accuracies, marker='o')\n",
    "    plt.title('Accuracy vs. K')\n",
    "    plt.xlabel('K')\n",
    "    plt.ylabel('Accuracy')\n",
    "    plt.xticks(K)\n",
    "    plt.grid(True)\n",
    "    plt.show()"
   ]
  },
  {
   "cell_type": "markdown",
   "id": "09febae3",
   "metadata": {},
   "source": [
    "# RUN LDA and project the training and test Data using the 39 Eigen Vectors corresponding to the Highest 39 Eigen Values then calculate the Accuracy"
   ]
  },
  {
   "cell_type": "code",
   "execution_count": 16,
   "id": "b18e16f4",
   "metadata": {},
   "outputs": [
    {
     "name": "stdout",
     "output_type": "stream",
     "text": [
      "Reading Started\n"
     ]
    },
    {
     "name": "stdout",
     "output_type": "stream",
     "text": [
      "39\n",
      "Number of Classes =  40\n",
      "Eigen Values =  [ 2.26008529e+01+0.00000000e+00j  1.54955104e+01+0.00000000e+00j\n",
      "  1.06728699e+01+0.00000000e+00j ... -2.51809162e-15+1.97848457e-15j\n",
      " -2.51809162e-15-1.97848457e-15j -2.75496911e-15+0.00000000e+00j]\n",
      "Eigen Vectors =  [[ 0.00195963+0.j         -0.00656164+0.j         -0.00088356+0.j\n",
      "  ... -0.0021747 +0.01170303j -0.0021747 -0.01170303j\n",
      "  -0.00918936+0.j        ]\n",
      " [ 0.00368616+0.j         -0.0035659 +0.j          0.00082478+0.j\n",
      "  ...  0.0072192 -0.00332854j  0.0072192 +0.00332854j\n",
      "  -0.01542705+0.j        ]\n",
      " [-0.00057438+0.j         -0.0071894 +0.j         -0.00175051+0.j\n",
      "  ... -0.00506525-0.01204907j -0.00506525+0.01204907j\n",
      "  -0.00423835+0.j        ]\n",
      " ...\n",
      " [ 0.03767583+0.j         -0.01090378+0.j         -0.01600198+0.j\n",
      "  ... -0.01677462-0.01620579j -0.01677462+0.01620579j\n",
      "   0.04250536+0.j        ]\n",
      " [ 0.02422824+0.j          0.00305271+0.j         -0.02169073+0.j\n",
      "  ... -0.00021549-0.00547236j -0.00021549+0.00547236j\n",
      "   0.00404241+0.j        ]\n",
      " [ 0.04273685+0.j         -0.0053556 +0.j         -0.0063518 +0.j\n",
      "  ... -0.0195936 +0.02275178j -0.0195936 -0.02275178j\n",
      "   0.04432994+0.j        ]]\n",
      "U =  [[ 0.00195963 -0.00656164 -0.00088356 ... -0.0043234  -0.00505938\n",
      "   0.00194173]\n",
      " [ 0.00368616 -0.0035659   0.00082478 ... -0.00035483 -0.00256093\n",
      "   0.00265978]\n",
      " [-0.00057438 -0.0071894  -0.00175051 ...  0.00113959 -0.00276102\n",
      "   0.00560417]\n",
      " ...\n",
      " [ 0.03767583 -0.01090378 -0.01600198 ...  0.00417213  0.02672634\n",
      "  -0.00034957]\n",
      " [ 0.02422824  0.00305271 -0.02169073 ...  0.01503577 -0.01701034\n",
      "   0.00439822]\n",
      " [ 0.04273685 -0.0053556  -0.0063518  ...  0.0047919  -0.02475573\n",
      "   0.01452672]]\n",
      "Accuracy =  0.96   at k =  1\n",
      "Accuracy =  0.885   at k =  3\n",
      "Accuracy =  0.9   at k =  5\n",
      "Accuracy =  0.92   at k =  7\n"
     ]
    },
    {
     "data": {
      "image/png": "[encoded data removed]",
      "text/plain": [
       "<Figure size 640x480 with 1 Axes>"
      ]
     },
     "metadata": {},
     "output_type": "display_data"
    }
   ],
   "source": [
    "(D, labels) = construct_data_frame()\n",
    "\n",
    "\n",
    "(train_Data, train_Label, test_Data, test_Label) = split_data(D, labels)\n",
    "\n",
    "U = LDA(train_Data, train_Label, eigen_values_count=39)\n",
    "\n",
    "Projected_train_Data = train_Data.dot(U)  # ==  ((U.T).dot(train_Data.T)).T\n",
    "Projected_test_Data = test_Data.dot(U)\n",
    "\n",
    "calc_Accuracy(Projected_train_Data, Projected_test_Data,train_Label ,test_Label)"
   ]
  },
  {
   "cell_type": "markdown",
   "id": "7c8d2f27",
   "metadata": {},
   "source": [
    "# BONUS A)"
   ]
  },
  {
   "cell_type": "code",
   "execution_count": 17,
   "id": "50d111b4",
   "metadata": {},
   "outputs": [
    {
     "name": "stdout",
     "output_type": "stream",
     "text": [
      "Reading Started\n",
      "39\n",
      "Number of Classes =  40\n",
      "Eigen Values =  [ 2.91329329e+01+0.00000000e+00j  1.96431320e+01+0.00000000e+00j\n",
      "  1.40697588e+01+0.00000000e+00j ... -3.23940606e-15+1.16852868e-15j\n",
      " -3.23940606e-15-1.16852868e-15j -4.93915201e-15+0.00000000e+00j]\n",
      "Eigen Vectors =  [[-0.00431265+0.j          0.00120864+0.j         -0.00490706+0.j\n",
      "  ... -0.01917071+0.01327531j -0.01917071-0.01327531j\n",
      "   0.00330875+0.j        ]\n",
      " [-0.00031091+0.j         -0.00105019+0.j         -0.00707077+0.j\n",
      "  ... -0.01027339-0.00464043j -0.01027339+0.00464043j\n",
      "   0.01975946+0.j        ]\n",
      " [-0.00046923+0.j         -0.00203809+0.j         -0.00604414+0.j\n",
      "  ...  0.01701593+0.00961602j  0.01701593-0.00961602j\n",
      "   0.00252792+0.j        ]\n",
      " ...\n",
      " [ 0.02348746+0.j          0.00689234+0.j         -0.01550597+0.j\n",
      "  ...  0.00035532+0.00458718j  0.00035532-0.00458718j\n",
      "   0.00614287+0.j        ]\n",
      " [ 0.02082171+0.j          0.01065187+0.j         -0.00321983+0.j\n",
      "  ...  0.01682525-0.01213098j  0.01682525+0.01213098j\n",
      "   0.0016376 +0.j        ]\n",
      " [ 0.01898468+0.j          0.00713215+0.j          0.00400228+0.j\n",
      "  ... -0.00123386-0.00639629j -0.00123386+0.00639629j\n",
      "   0.00242317+0.j        ]]\n",
      "U =  [[-0.00431265  0.00120864 -0.00490706 ... -0.00431158  0.0037851\n",
      "   0.00329748]\n",
      " [-0.00031091 -0.00105019 -0.00707077 ... -0.00092244  0.0033981\n",
      "  -0.0006664 ]\n",
      " [-0.00046923 -0.00203809 -0.00604414 ... -0.00122868  0.00617534\n",
      "   0.00036863]\n",
      " ...\n",
      " [ 0.02348746  0.00689234 -0.01550597 ... -0.00498221  0.01517272\n",
      "  -0.00502765]\n",
      " [ 0.02082171  0.01065187 -0.00321983 ...  0.00311702 -0.00207084\n",
      "  -0.00581951]\n",
      " [ 0.01898468  0.00713215  0.00400228 ...  0.01263888 -0.00525256\n",
      "  -0.00287767]]\n",
      "Accuracy =  0.95   at k =  1\n",
      "Accuracy =  0.9416666666666667   at k =  3\n",
      "Accuracy =  0.9416666666666667   at k =  5\n",
      "Accuracy =  0.95   at k =  7\n"
     ]
    },
    {
     "data": {
      "image/png": "[encoded data removed]",
      "text/plain": [
       "<Figure size 640x480 with 1 Axes>"
      ]
     },
     "metadata": {},
     "output_type": "display_data"
    }
   ],
   "source": [
    "(D, labels) = construct_data_frame()\n",
    "\n",
    "\n",
    "(train_Data, train_Label, test_Data, test_Label) = split_data_70_30(D, labels)\n",
    "\n",
    "U = LDA(train_Data, train_Label, eigen_values_count=39)\n",
    "\n",
    "Projected_train_Data = train_Data.dot(U)  # ==  ((U.T).dot(train_Data.T)).T\n",
    "Projected_test_Data = test_Data.dot(U)\n",
    "\n",
    "calc_Accuracy(Projected_train_Data, Projected_test_Data,train_Label ,test_Label)"
   ]
  }
 ],
 "metadata": {
  "kernelspec": {
   "display_name": "Python 3 (ipykernel)",
   "language": "python",
   "name": "python3"
  },
  "language_info": {
   "codemirror_mode": {
    "name": "ipython",
    "version": 3
   },
   "file_extension": ".py",
   "mimetype": "text/x-python",
   "name": "python",
   "nbconvert_exporter": "python",
   "pygments_lexer": "ipython3",
   "version": "3.11.7"
  }
 },
 "nbformat": 4,
 "nbformat_minor": 5
}
